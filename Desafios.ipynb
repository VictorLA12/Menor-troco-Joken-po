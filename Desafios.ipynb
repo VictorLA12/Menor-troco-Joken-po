{
  "nbformat": 4,
  "nbformat_minor": 0,
  "metadata": {
    "colab": {
      "provenance": [],
      "authorship_tag": "ABX9TyOpcu8Wr25T6GnpmZ2jSSWT",
      "include_colab_link": true
    },
    "kernelspec": {
      "name": "python3",
      "display_name": "Python 3"
    },
    "language_info": {
      "name": "python"
    }
  },
  "cells": [
    {
      "cell_type": "markdown",
      "metadata": {
        "id": "view-in-github",
        "colab_type": "text"
      },
      "source": [
        "<a href=\"https://colab.research.google.com/github/VictorLA12/Menor-troco-Joken-po/blob/main/Desafios.ipynb\" target=\"_parent\"><img src=\"https://colab.research.google.com/assets/colab-badge.svg\" alt=\"Open In Colab\"/></a>"
      ]
    },
    {
      "cell_type": "code",
      "execution_count": null,
      "metadata": {
        "colab": {
          "base_uri": "https://localhost:8080/"
        },
        "id": "8xMIzoe2k4Ie",
        "outputId": "061e1b5b-9ceb-4897-eff5-d0bf988eba68"
      },
      "outputs": [
        {
          "output_type": "stream",
          "name": "stdout",
          "text": [
            "Digite o valor a ser pago: R$102\n",
            "Digite o valor recebido: R$150\n",
            "Troco = R$ 48.00\n",
            "O valor do troco é de R$48.00, da seguite forma:\n",
            "    0.0 notas de 100, 0 nota de 50, 2.0 notas de 20,\n",
            "    0 nota de 10, 1.0 nota de 5, 1.0 notas de 2,\n",
            "    1 moeda de 1, 0 moeda de 0.50, 0 moeda de 0.25,\n",
            "    0 moedas de 0.10 e 0 moeda de 0.05.\n"
          ]
        }
      ],
      "source": [
        "#TROCO\n",
        "p = float(input('Digite o valor a ser pago: R$'))\n",
        "r = float(input('Digite o valor recebido: R$'))\n",
        "t = r - p\n",
        "print('Troco = R$ {:.2f}'.format(t))\n",
        "#notas de cem\n",
        "nc = t // 100\n",
        "rc = t - 100*nc\n",
        "#notas de 50\n",
        "if rc>=50:\n",
        "    nq = rc // 50\n",
        "    rq = rc - 50*nq\n",
        "else:\n",
        "    nq = 0\n",
        "    rq = rc\n",
        "#notas de 20\n",
        "if rq>=20:\n",
        "    nv = rq // 20\n",
        "    rv = rq - 20*nv\n",
        "else:\n",
        "    nv = 0\n",
        "    rv = rq\n",
        "#notas de 10\n",
        "if rv>=10:\n",
        "    nd = rv // 10\n",
        "    rd = rv - 10*nd\n",
        "else:\n",
        "    nd = 0\n",
        "    rd = rv\n",
        "#notas de 5\n",
        "if rd>=5:\n",
        "    n5 = rd // 5\n",
        "    r5 = rd - 5*n5\n",
        "else:\n",
        "    n5 = 0\n",
        "    r5 = rd\n",
        "#notas de 2\n",
        "if r5>=2:\n",
        "    n2 = r5 // 2\n",
        "    r2 = r5 - 2*n2\n",
        "else:\n",
        "    n2 = 0\n",
        "    r2 = r5\n",
        "#moedas de 1\n",
        "if r2>=1:\n",
        "    mu = 1\n",
        "    ru = r2 - 1\n",
        "else:\n",
        "    mu = 0\n",
        "    ru = r2\n",
        "#moedas de 50\n",
        "if ru>=0.5:\n",
        "    mc = 1\n",
        "    rmc = ru - 0.5\n",
        "else:\n",
        "    mc = 0\n",
        "    rmc = ru\n",
        "#moedas de 25\n",
        "if rmc >= 0.25:\n",
        "    mv = 1\n",
        "    rmv = rmc - 0.25\n",
        "else:\n",
        "    mv = 0\n",
        "    rmv = rmc\n",
        "#moedas de 10\n",
        "if rmv >= 0.1:\n",
        "    md = rmv // 0.1\n",
        "    rmd = rmv - 0.1*md\n",
        "else:\n",
        "    md = 0\n",
        "    rmd = rmv\n",
        "#moedas de 5\n",
        "if rmd >= 0.5:\n",
        "    m5 = 1\n",
        "    rm5 = rmd - 0.5\n",
        "else:\n",
        "    m5 = 0\n",
        "    rm5 = rmd\n",
        "print('''O valor do troco é de R${:.2f}, da seguite forma:\n",
        "    {} notas de 100, {} nota de 50, {} notas de 20,\n",
        "    {} nota de 10, {} nota de 5, {} notas de 2,\n",
        "    {} moeda de 1, {} moeda de 0.50, {} moeda de 0.25,\n",
        "    {} moedas de 0.10 e {} moeda de 0.05.'''.format(t,nc,nq,nv,nd,n5,n2,mu,mc,mv,md,m5))"
      ]
    },
    {
      "cell_type": "code",
      "source": [
        "#JOKENPÔ!\n",
        "import random\n",
        "\n",
        "d = str('pedra')\n",
        "p = str('papel')\n",
        "t = str('tesoura')\n",
        "Jokenpô = [d, p, t]\n",
        "e = 0\n",
        "v = 0\n",
        "c = 0\n",
        "for q in range (0,3):\n",
        "    pc = random.choice(Jokenpô)\n",
        "    vc = str(input('Você:'))\n",
        "    print('Computador:',pc)\n",
        "    if (vc == d and pc == p) or (vc == p and pc == t) or (vc == t and pc == d):\n",
        "        c = c + 1\n",
        "        print('COMPUTADOR VENCEU')\n",
        "    elif (pc == d and vc == p) or (pc == p and vc == t) or (pc == t and vc == d):\n",
        "        v = v + 1\n",
        "        print('VOCÊ VENCEU!')\n",
        "    else:\n",
        "        e = e + 1\n",
        "        print('EMPATOU')\n",
        "print('Placar Final: Você {} x {} Computador'.format(v,c))\n"
      ],
      "metadata": {
        "id": "BqSK_9g6lCKq"
      },
      "execution_count": null,
      "outputs": []
    },
    {
      "cell_type": "code",
      "source": [
        "#PAR OU ÍMPAR\n",
        "import random\n",
        "c = 0\n",
        "while True:\n",
        "    print('PAR OU ÍMPAR')\n",
        "    Lista = [0,1,2,3,4,5,6,7,8,9,10]\n",
        "    vc = int(input('Diga um valor:'))\n",
        "    pi = str(input('Você quer PAR ou IMPAR?')).upper()\n",
        "    pc = random.choice(Lista)\n",
        "    s = vc + pc\n",
        "    if ((s) % 2 == 0 and pi == 'IMPAR') or ((s) % 2 == 1 and pi == 'PAR'):\n",
        "        break\n",
        "    else:\n",
        "        print('VOCÊ VENCEU!')\n",
        "        print('Vamos jogar novamente:')\n",
        "    c += 1\n",
        "    print(f'Você jogou {vc} e o computador {pc}. Deu {s}, que é {pi}.')\n",
        "print(f'Você jogou {vc} e o computador {pc}. Deu {s}.')\n",
        "print(f'COMPUTADOR VENCEU! Fim de jogo pra você após {c} partidas.')\n"
      ],
      "metadata": {
        "id": "uLwxVKlAlW_m",
        "colab": {
          "base_uri": "https://localhost:8080/"
        },
        "outputId": "0853b79c-7411-49c0-db09-44c3c1f00162"
      },
      "execution_count": null,
      "outputs": [
        {
          "output_type": "stream",
          "name": "stdout",
          "text": [
            "PAR OU ÍMPAR\n",
            "Diga um valor:4\n",
            "Você quer PAR ou IMPAR?IMPAR\n",
            "VOCÊ VENCEU!\n",
            "Vamos jogar novamente:\n",
            "Você jogou 4 e o computador 1. Deu 5, que é IMPAR.\n",
            "PAR OU ÍMPAR\n",
            "Diga um valor:1\n",
            "Você quer PAR ou IMPAR?PAR\n",
            "VOCÊ VENCEU!\n",
            "Vamos jogar novamente:\n",
            "Você jogou 1 e o computador 1. Deu 2, que é PAR.\n",
            "PAR OU ÍMPAR\n",
            "Diga um valor:3\n",
            "Você quer PAR ou IMPAR?PAR\n",
            "Você jogou 3 e o computador 10. Deu 13.\n",
            "COMPUTADOR VENCEU! Fim de jogo pra você após 2 partidas.\n"
          ]
        }
      ]
    },
    {
      "cell_type": "code",
      "source": [
        "#FIBONACCI\n",
        "n = int(input('Digite quantos termos da sequência Fibonacci você quer:'))\n",
        "t1 = 0\n",
        "t2 = 1\n",
        "if n == 0:\n",
        "    print('Sem termos para mostrar.')\n",
        "elif n == 1:\n",
        "    print('Segue a sequência de Fibonacci de 1 termo:')\n",
        "    print('0 -> FIM')\n",
        "elif n == 2:\n",
        "    print('Segue a sequência de Fibonacci de 2 termos:')\n",
        "    print('0 -> 1 -> FIM')\n",
        "else:\n",
        "    print('Segue a sequência de Fibonacci de {} termos:'.format(n))\n",
        "    print('0 -> 1',end='')\n",
        "    for c in range(1,n-1):\n",
        "        t3 = t1 + t2\n",
        "        t1 = t2\n",
        "        t2 = t3\n",
        "        c += 1\n",
        "        print(' -> {}'.format(t3), end='')\n",
        "    print(' -> FIM')\n"
      ],
      "metadata": {
        "colab": {
          "base_uri": "https://localhost:8080/"
        },
        "id": "VVfaFrJwyUAR",
        "outputId": "ecba5c72-170a-4ee3-ce25-443d123ecb46"
      },
      "execution_count": null,
      "outputs": [
        {
          "output_type": "stream",
          "name": "stdout",
          "text": [
            "Digite quantos termos da sequência Fibonacci você quer:10\n",
            "Segue a sequência de Fibonacci de 10 termos:\n",
            "0 -> 1 -> 1 -> 2 -> 3 -> 5 -> 8 -> 13 -> 21 -> 34 -> FIM\n"
          ]
        }
      ]
    },
    {
      "cell_type": "code",
      "source": [],
      "metadata": {
        "id": "xdCI74plyyb5"
      },
      "execution_count": null,
      "outputs": []
    }
  ]
}